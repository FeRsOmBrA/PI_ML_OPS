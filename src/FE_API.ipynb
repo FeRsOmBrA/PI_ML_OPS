{
 "cells": [
  {
   "cell_type": "markdown",
   "metadata": {},
   "source": [
    "# Feature Engineering\n",
    "\n",
    "Este notebook se enfoca en el Feature Engineering, esencial para preparar los datos para el modelado de aprendizaje automático. Aquí, seleccionaremos, transformaremos o crearemos nuevas variables basadas en los datasets procesados previamente."
   ]
  },
  {
   "cell_type": "code",
   "execution_count": 1,
   "metadata": {},
   "outputs": [],
   "source": [
    "import pandas as pd\n",
    "from textblob import TextBlob"
   ]
  },
  {
   "cell_type": "markdown",
   "metadata": {},
   "source": [
    "## Carga de Datos Procesados\n"
   ]
  },
  {
   "cell_type": "code",
   "execution_count": 2,
   "metadata": {},
   "outputs": [],
   "source": [
    "steam_games = pd.read_pickle(\"../data/steam_games.pkl\")\n",
    "user_reviews = pd.read_pickle(\"../data/user_reviews.pkl\")\n",
    "users_items = pd.read_pickle(\"../data/users_items.pkl\")"
   ]
  },
  {
   "cell_type": "code",
   "execution_count": 6,
   "metadata": {},
   "outputs": [
    {
     "name": "stdout",
     "output_type": "stream",
     "text": [
      "           genres             app_name release_date  price      id  \\\n",
      "0          Action  Lost Summoner Kitty   2018-01-04   4.99  761140   \n",
      "1          Casual  Lost Summoner Kitty   2018-01-04   4.99  761140   \n",
      "2           Indie  Lost Summoner Kitty   2018-01-04   4.99  761140   \n",
      "3      Simulation  Lost Summoner Kitty   2018-01-04   4.99  761140   \n",
      "4        Strategy  Lost Summoner Kitty   2018-01-04   4.99  761140   \n",
      "...           ...                  ...          ...    ...     ...   \n",
      "67927       Indie        Russian Roads   2018-01-04   1.99  610660   \n",
      "67928      Racing        Russian Roads   2018-01-04   1.99  610660   \n",
      "67929  Simulation        Russian Roads   2018-01-04   1.99  610660   \n",
      "67930      Casual    Exit 2 Directions   2017-09-02   4.99  658870   \n",
      "67931       Indie    Exit 2 Directions   2017-09-02   4.99  658870   \n",
      "\n",
      "                      developer  release_year  \n",
      "0                     Kotoshiro          2018  \n",
      "1                     Kotoshiro          2018  \n",
      "2                     Kotoshiro          2018  \n",
      "3                     Kotoshiro          2018  \n",
      "4                     Kotoshiro          2018  \n",
      "...                         ...           ...  \n",
      "67927  Laush Dmitriy Sergeevich          2018  \n",
      "67928  Laush Dmitriy Sergeevich          2018  \n",
      "67929  Laush Dmitriy Sergeevich          2018  \n",
      "67930             xropi,stev3ns          2017  \n",
      "67931             xropi,stev3ns          2017  \n",
      "\n",
      "[67931 rows x 7 columns]\n",
      "                 user_id                     posted item_id recommend  \\\n",
      "0      76561197970982479   Posted November 5, 2011.    1250      True   \n",
      "1      76561197970982479      Posted July 15, 2011.   22200      True   \n",
      "2      76561197970982479     Posted April 21, 2011.   43110      True   \n",
      "3                js41637      Posted June 24, 2014.  251610      True   \n",
      "4                js41637  Posted September 8, 2013.  227300      True   \n",
      "...                  ...                        ...     ...       ...   \n",
      "48493            wayfeng   Posted October 14, 2015.     730      True   \n",
      "48494  76561198251004808   Posted October 10, 2015.  253980      True   \n",
      "48495        72947282842   Posted October 31, 2015.     730      True   \n",
      "48496          ApxLGhost  Posted December 14, 2015.     730      True   \n",
      "48497  76561198267374962  Posted December 29, 2015.  369200      True   \n",
      "\n",
      "                                                  review  year  \\\n",
      "0      Simple yet with great replayability. In my opi...  2011   \n",
      "1                   It's unique and worth a playthrough.  2011   \n",
      "2      Great atmosphere. The gunplay can be a bit chu...  2011   \n",
      "3      I know what you think when you see this title ...  2014   \n",
      "4      For a simple (it's actually not all that simpl...  2013   \n",
      "...                                                  ...   ...   \n",
      "48493                                     its FUNNNNNNNN  2015   \n",
      "48494  Awesome fantasy game if you don't mind the gra...  2015   \n",
      "48495                                   Prettyy Mad Game  2015   \n",
      "48496                                 AMAZING GAME 10/10  2015   \n",
      "48497  Why I voted yes? 1. Girl characters have boobs...  2015   \n",
      "\n",
      "       sentiment_analysis  \n",
      "0                       2  \n",
      "1                       2  \n",
      "2                       1  \n",
      "3                       2  \n",
      "4                       1  \n",
      "...                   ...  \n",
      "48493                   1  \n",
      "48494                   2  \n",
      "48495                   0  \n",
      "48496                   2  \n",
      "48497                   2  \n",
      "\n",
      "[48498 rows x 7 columns]\n",
      "                 user_id item_id  playtime_forever\n",
      "0      76561197970982479      10                 6\n",
      "0      76561197970982479      30                 7\n",
      "0      76561197970982479     300              4733\n",
      "0      76561197970982479     240              1853\n",
      "0      76561197970982479    3830               333\n",
      "...                  ...     ...               ...\n",
      "88308  76561198329548331  304930               677\n",
      "88308  76561198329548331  227940                43\n",
      "88308  76561198329548331  388490                 3\n",
      "88308  76561198329548331  521570                 4\n",
      "88308  76561198329548331  519140                 3\n",
      "\n",
      "[3246362 rows x 3 columns]\n"
     ]
    }
   ],
   "source": [
    "print(steam_games)\n",
    "print(user_reviews)\n",
    "print(users_items)"
   ]
  },
  {
   "cell_type": "markdown",
   "metadata": {},
   "source": [
    "##  Análisis de Sentimientos en Reseñas de Usuarios\n",
    "\n",
    "El propósito es evaluar el sentimiento de las reseñas, asignando una puntuación basada en la polaridad del texto."
   ]
  },
  {
   "cell_type": "code",
   "execution_count": 54,
   "metadata": {},
   "outputs": [],
   "source": [
    "\n",
    "\n",
    "def analyze_sentiment(review_text):\n",
    "    if pd.isnull(review_text):\n",
    "        return 1  # Neutral por defecto si no hay reseña\n",
    "    analysis = TextBlob(review_text)\n",
    "    if analysis.sentiment.polarity > 0.1:\n",
    "        return 2  # Positivo\n",
    "    elif analysis.sentiment.polarity < -0.1:\n",
    "        return 0  # Negativo\n",
    "    else:\n",
    "        return 1  # Neutral\n",
    "\n",
    "\n",
    "user_reviews['sentiment_analysis'] = user_reviews['review'].apply(\n",
    "    analyze_sentiment)\n",
    "# Guardar cambios \n",
    "\n",
    "user_reviews.to_pickle(\"../data/user_reviews.pkl\")"
   ]
  },
  {
   "cell_type": "code",
   "execution_count": 17,
   "metadata": {},
   "outputs": [
    {
     "name": "stdout",
     "output_type": "stream",
     "text": [
      "Review: Simple yet with great replayability. In my opinion does \"zombie\" hordes and team work better than left 4 dead plus has a global leveling system. Alot of down to earth \"zombie\" splattering fun for the whole family. Amazed this sort of FPS is so rare. \n",
      "Sentiment: 2 \n",
      "\n",
      "Review: It's unique and worth a playthrough. \n",
      "Sentiment: 2 \n",
      "\n",
      "Review: Great atmosphere. The gunplay can be a bit chunky at times but at the end of the day this game is definitely worth it and I hope they do a sequel...so buy the game so I get a sequel! \n",
      "Sentiment: 1 \n",
      "\n",
      "Review: I know what you think when you see this title \"Barbie Dreamhouse Party\" but do not be intimidated by it's title, this is easily one of my GOTYs. You don't get any of that cliche game mechanics that all the latest games have, this is simply good core gameplay. Yes, you can't 360 noscope your friends, but what you can do is show them up with your bad ♥♥♥ dance moves and put them to shame as you show them what true fashion and color combinations are.I know this game says for kids but, this is easily for any age range and any age will have a blast playing this.8/8 \n",
      "Sentiment: 2 \n",
      "\n",
      "Review: For a simple (it's actually not all that simple but it can be!) truck driving Simulator, it is quite a fun and relaxing game. Playing on simple (or easy?) its just the basic WASD keys for driving but (if you want) the game can be much harder and realistic with having to manually change gears, much harder turning, etc. And reversing in this game is a ♥♥♥♥♥, as I imagine it would be with an actual truck. Luckily, you don't have to reverse park it but you get extra points if you do cause it is bloody hard. But this is suprisingly a nice truck driving game and I had a bit of fun with it. \n",
      "Sentiment: 1 \n",
      "\n",
      "Review: Very fun little game to play when your bored or as a time passer. Very gud. Do Recommend. pls buy \n",
      "Sentiment: 1 \n",
      "\n",
      "Review: \"Run for fun? What the hell kind of fun is that?\" \n",
      "Sentiment: 2 \n",
      "\n",
      "Review: Elegant integration of gameplay, story, world development and aesthetic. \n",
      "Sentiment: 2 \n",
      "\n",
      "Review: Random drops and random quests, with stat points.  Animation style reminiscent of the era before the Voodoo card. \n",
      "Sentiment: 0 \n",
      "\n",
      "Review: Fun balance of tactics and strategy.  Potential for very rewarding battles on smaller maps.  Can become a bit of a grind on larger maps (>200 stars). \n",
      "Sentiment: 2 \n",
      "\n"
     ]
    }
   ],
   "source": [
    "# Muestra aletoria de reviews y sentimientos para comprobación\n",
    "\n",
    "for i in range(10):\n",
    "    print(\n",
    "        f\"Review: {user_reviews['review'].iloc[i]} \\nSentiment: {user_reviews['sentiment_analysis'].iloc[i]} \\n\")"
   ]
  },
  {
   "cell_type": "markdown",
   "metadata": {},
   "source": [
    "## Funciones para la API \n",
    "\n",
    "Crearemos y testearemos las funciones que estaran disponibles como endpoints y seran consumidas.\n",
    "\n"
   ]
  },
  {
   "cell_type": "code",
   "execution_count": null,
   "metadata": {},
   "outputs": [],
   "source": [
    "def developer_info(desarrollador: str, steam_games_df):\n",
    "    # Filtrar juegos por desarrollador\n",
    "    dev_games = steam_games_df[steam_games_df['developer'] == desarrollador]\n",
    "    # Agrupar por año y contar juegos\n",
    "    games_per_year = dev_games.groupby('release_year').agg(\n",
    "        {'app_name': 'count', 'price': lambda x: (x == 0).mean()})\n",
    "    games_per_year.rename(columns={'app_name': 'Cantidad de Juegos',\n",
    "                          'price': 'Porcentaje Juegos Gratuitos'}, inplace=True)\n",
    "    games_per_year['Porcentaje Juegos Gratuitos'] = games_per_year['Porcentaje Juegos Gratuitos'] * 100\n",
    "    return games_per_year.reset_index().to_dict('records')\n",
    "\n",
    "\n",
    "developer_info('Valve', steam_games)"
   ]
  },
  {
   "cell_type": "code",
   "execution_count": 26,
   "metadata": {},
   "outputs": [
    {
     "data": {
      "text/plain": [
       "{'Usuario': '76561197960265729',\n",
       " 'Dinero gastado': '0 horas (simulado)',\n",
       " 'Porcentaje de recomendación': 'nan%',\n",
       " 'Cantidad de items': 0}"
      ]
     },
     "execution_count": 26,
     "metadata": {},
     "output_type": "execute_result"
    }
   ],
   "source": [
    "def user_data(user_id: str, user_reviews_df, user_items_df):\n",
    "    # Calcular el gasto total del usuario\n",
    "    user_games = user_items_df[user_items_df['user_id'] == user_id]\n",
    "    # Simulación del gasto total\n",
    "    total_spent = user_games['playtime_forever'].sum()\n",
    "\n",
    "    # Calcular el porcentaje de recomendación\n",
    "    user_recommendations = user_reviews_df[user_reviews_df['user_id'] == user_id]\n",
    "    recommend_percentage = (user_recommendations['recommend'].mean()) * 100\n",
    "\n",
    "    # Contar la cantidad de items\n",
    "    items_count = user_games.shape[0]\n",
    "\n",
    "    return {\n",
    "        \"Usuario\": user_id,\n",
    "        # Asumiendo que el gasto se relaciona con las horas de juego\n",
    "        \"Dinero gastado\": f\"{total_spent} horas (simulado)\",\n",
    "        \"Porcentaje de recomendación\": f\"{recommend_percentage:.2f}%\",\n",
    "        \"Cantidad de items\": items_count\n",
    "    }\n",
    "\n",
    "\n",
    "user_data('76561197960265729', user_reviews, users_items)"
   ]
  },
  {
   "cell_type": "code",
   "execution_count": 48,
   "metadata": {},
   "outputs": [
    {
     "data": {
      "text/plain": [
       "{'Usuario con más horas jugadas para Género': 'Sp3ctre',\n",
       " 'Horas jugadas': [{'release_year': 1995.0, 'playtime_forever': 217},\n",
       "  {'release_year': 1999.0, 'playtime_forever': 44},\n",
       "  {'release_year': 2000.0, 'playtime_forever': 70644},\n",
       "  {'release_year': 2001.0, 'playtime_forever': 13},\n",
       "  {'release_year': 2002.0, 'playtime_forever': 238},\n",
       "  {'release_year': 2003.0, 'playtime_forever': 7673},\n",
       "  {'release_year': 2004.0, 'playtime_forever': 127411},\n",
       "  {'release_year': 2005.0, 'playtime_forever': 21339},\n",
       "  {'release_year': 2006.0, 'playtime_forever': 896},\n",
       "  {'release_year': 2007.0, 'playtime_forever': 112784},\n",
       "  {'release_year': 2008.0, 'playtime_forever': 224},\n",
       "  {'release_year': 2009.0, 'playtime_forever': 108326},\n",
       "  {'release_year': 2010.0, 'playtime_forever': 78083},\n",
       "  {'release_year': 2011.0, 'playtime_forever': 154896},\n",
       "  {'release_year': 2012.0, 'playtime_forever': 378296},\n",
       "  {'release_year': 2013.0, 'playtime_forever': 120306},\n",
       "  {'release_year': 2014.0, 'playtime_forever': 130452},\n",
       "  {'release_year': 2015.0, 'playtime_forever': 307510},\n",
       "  {'release_year': 2016.0, 'playtime_forever': 29298},\n",
       "  {'release_year': 2017.0, 'playtime_forever': 43327}]}"
      ]
     },
     "execution_count": 48,
     "metadata": {},
     "output_type": "execute_result"
    }
   ],
   "source": [
    "def user_for_genre(genre: str, steam_games_df, user_items_df):\n",
    "    # Filtrar juegos por género\n",
    "    genre_games = steam_games_df[steam_games_df['genres'].str.contains(\n",
    "        genre, case=False, na=False)]\n",
    "\n",
    "    # Unir con user_items para obtener los juegos jugados por los usuarios que coinciden con el género\n",
    "    genre_user_items = user_items_df.merge(\n",
    "        genre_games, left_on='item_id', right_on='id')\n",
    "\n",
    "    # Agrupar por usuario y sumar el tiempo de juego total\n",
    "    user_playtime = genre_user_items.groupby(\n",
    "        'user_id')['playtime_forever'].sum().reset_index()\n",
    "\n",
    "    # Encontrar el usuario con más tiempo de juego\n",
    "    top_user = user_playtime.loc[user_playtime['playtime_forever'].idxmax()]\n",
    "\n",
    "    # Filtrar los juegos jugados por el top user y agrupar por año\n",
    "    top_user_games = genre_user_items[genre_user_items['user_id']\n",
    "                                      == top_user['user_id']]\n",
    "    hours_played_by_year = top_user_games.groupby(\n",
    "        'release_year')['playtime_forever'].sum().reset_index()\n",
    "\n",
    "    return {\n",
    "        \"Usuario con más horas jugadas para Género\": top_user['user_id'],\n",
    "        \"Horas jugadas\": hours_played_by_year.to_dict('records')\n",
    "    }\n",
    "\n",
    "\n",
    "user_for_genre('Action', steam_games, users_items)"
   ]
  },
  {
   "cell_type": "code",
   "execution_count": 46,
   "metadata": {},
   "outputs": [
    {
     "data": {
      "text/plain": [
       "array([2018., 2017., 1997., 1998., 2016., 2006., 2005., 2003., 2007.,\n",
       "       2002., 2000., 1995., 1996., 1994., 2001., 1993., 2004., 2008.,\n",
       "       2009.,   nan, 1999., 1992., 1989., 2010., 2011., 2013., 2012.,\n",
       "       2014., 1983., 1984., 2015., 1990., 1988., 1991., 1987., 1986.,\n",
       "       2021., 2019., 1985.])"
      ]
     },
     "execution_count": 46,
     "metadata": {},
     "output_type": "execute_result"
    }
   ],
   "source": [
    "steam_games['release_year'].unique()"
   ]
  },
  {
   "cell_type": "code",
   "execution_count": 47,
   "metadata": {},
   "outputs": [
    {
     "data": {
      "text/plain": [
       "[{'developer': 'Irrational Games,Looking Glass Studios', 'recommend': 12},\n",
       " {'developer': 'Valve', 'recommend': 10},\n",
       " {'developer': 'Team17 Digital Ltd', 'recommend': 5}]"
      ]
     },
     "execution_count": 47,
     "metadata": {},
     "output_type": "execute_result"
    }
   ],
   "source": [
    "def best_developer_year(year: int, steam_games_df, user_reviews_df):\n",
    "    # Filtrar juegos por año\n",
    "    year_games = steam_games_df[steam_games_df['release_year'] == year]\n",
    "    \n",
    "    # Unir con user_reviews para obtener las reseñas de los juegos de ese año\n",
    "    reviews_year_games = user_reviews_df.merge(year_games, left_on='item_id', right_on='id')\n",
    "    \n",
    "    # Filtrar por recomendaciones positivas\n",
    "    positive_reviews = reviews_year_games[reviews_year_games['recommend'] == True]\n",
    "    \n",
    "    # Agrupar por desarrollador y contar las recomendaciones\n",
    "    developer_recommendations = positive_reviews.groupby('developer')['recommend'].count().reset_index()\n",
    "    \n",
    "    # Ordenar y obtener el top 3\n",
    "    top_3_developers = developer_recommendations.sort_values(by='recommend', ascending=False).head(3)\n",
    "    \n",
    "    return top_3_developers.to_dict('records')\n",
    "\n",
    "best_developer_year(1999, steam_games, user_reviews)"
   ]
  },
  {
   "cell_type": "code",
   "execution_count": 4,
   "metadata": {},
   "outputs": [
    {
     "data": {
      "text/plain": [
       "{'Kotoshiro': {'Negative': 0, 'Positive': 0}}"
      ]
     },
     "execution_count": 4,
     "metadata": {},
     "output_type": "execute_result"
    }
   ],
   "source": [
    "def developer_reviews_analysis(desarrolladora: str, steam_games_df, user_reviews_df):\n",
    "    # Filtrar los juegos por el desarrollador\n",
    "    dev_games = steam_games_df[steam_games_df['developer'] == desarrolladora]\n",
    "    \n",
    "    # Unir con user_reviews para obtener las reseñas de los juegos de ese desarrollador\n",
    "    dev_reviews = user_reviews_df.merge(dev_games, left_on='item_id', right_on='id')\n",
    "    \n",
    "    # Contar las reseñas positivas y negativas\n",
    "    sentiment_count = dev_reviews['sentiment_analysis'].value_counts()\n",
    "    \n",
    "    # Preparar el resultado\n",
    "    result = {\n",
    "        desarrolladora: {\n",
    "            'Negative': sentiment_count.get(0, 0),  # Si no hay reseñas negativas, retorna 0\n",
    "            'Positive': sentiment_count.get(2, 0)   # Si no hay reseñas positivas, retorna 0\n",
    "        }\n",
    "    }\n",
    "    \n",
    "    return result\n",
    "\n",
    "developer_reviews_analysis('Kotoshiro', steam_games, user_reviews)"
   ]
  }
 ],
 "metadata": {
  "kernelspec": {
   "display_name": "base",
   "language": "python",
   "name": "python3"
  },
  "language_info": {
   "codemirror_mode": {
    "name": "ipython",
    "version": 3
   },
   "file_extension": ".py",
   "mimetype": "text/x-python",
   "name": "python",
   "nbconvert_exporter": "python",
   "pygments_lexer": "ipython3",
   "version": "3.11.5"
  }
 },
 "nbformat": 4,
 "nbformat_minor": 2
}
