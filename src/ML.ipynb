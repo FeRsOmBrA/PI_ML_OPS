{
 "cells": [
  {
   "cell_type": "markdown",
   "metadata": {},
   "source": [
    "# Sistema de recomendación de video juegos - Modelo K-NN \n",
    "# Sistema de Recomendación de Videojuegos\n",
    "\n",
    "\n",
    "## Metodología\n",
    "\n",
    "El sistema de recomendación se basa en el filtrado colaborativo, específicamente en el método de los vecinos más cercanos (K-NN). Este enfoque utiliza la matriz de utilidad, que representa las horas de juego acumuladas (playtime) por cada usuario para cada juego, como base para calcular las similitudes entre los juegos.\n",
    "\n",
    "Para construir la matriz de utilidad, primero preprocesamos los datos de `users_items`, que contiene información sobre los juegos que los usuarios han jugado y las horas acumuladas en cada uno. Luego, transformamos estos datos en una matriz donde las filas representan los juegos (identificados por `item_id`) y las columnas representan a los usuarios. Los valores de la matriz son las horas jugadas, con ceros en caso de que un usuario no haya jugado un juego específico.\n",
    "\n",
    "La matriz de utilidad se convierte en una matriz dispersa (sparse matrix) para mejorar la eficiencia computacional. Utilizamos el algoritmo K-NN para entrenar nuestro modelo de recomendación, configurándolo para utilizar la métrica del coseno, que es adecuada para medir similitudes en este tipo de datos.\n",
    "\n"
   ]
  },
  {
   "cell_type": "code",
   "execution_count": 1,
   "metadata": {},
   "outputs": [],
   "source": [
    "import pandas as pd\n",
    "import pickle\n",
    "from scipy.sparse import csr_matrix\n",
    "from sklearn.neighbors import NearestNeighbors\n",
    "\n",
    "steam_games = pd.read_pickle(\"../data/steam_games.pkl\")\n",
    "users_items = pd.read_pickle(\"../data/users_items.pkl\")"
   ]
  },
  {
   "cell_type": "code",
   "execution_count": 13,
   "metadata": {},
   "outputs": [],
   "source": [
    "# reducir tamaño para modelo\n",
    "\n",
    "users_items = users_items[:100000]\n"
   ]
  },
  {
   "cell_type": "code",
   "execution_count": 14,
   "metadata": {},
   "outputs": [],
   "source": [
    "# Guardar para la API\n",
    "steam_games.to_pickle(\"../data/steam_games_model.pkl\")\n",
    "users_items.to_pickle(\"../data/users_items_model.pkl\")"
   ]
  },
  {
   "cell_type": "code",
   "execution_count": 4,
   "metadata": {},
   "outputs": [],
   "source": [
    "\n",
    "# Crear una matriz de utilidad a partir de la tabla de usuarios e items\n",
    "matrix_utility = users_items.pivot(\n",
    "    index='item_id', columns='user_id', values='playtime_forever').fillna(0)"
   ]
  },
  {
   "cell_type": "code",
   "execution_count": 5,
   "metadata": {},
   "outputs": [],
   "source": [
    "pickle.dump(matrix_utility, open(\"../data/matrix_utility.pkl\", \"wb\"))"
   ]
  },
  {
   "cell_type": "code",
   "execution_count": 6,
   "metadata": {},
   "outputs": [],
   "source": [
    "# Convertir la matriz de utilidad a una matriz sparse para mejorar la eficiencia\n",
    "matrix_utility_sparse = csr_matrix(matrix_utility.values)"
   ]
  },
  {
   "cell_type": "code",
   "execution_count": 8,
   "metadata": {},
   "outputs": [
    {
     "data": {
      "text/html": [
       "<style>#sk-container-id-1 {color: black;}#sk-container-id-1 pre{padding: 0;}#sk-container-id-1 div.sk-toggleable {background-color: white;}#sk-container-id-1 label.sk-toggleable__label {cursor: pointer;display: block;width: 100%;margin-bottom: 0;padding: 0.3em;box-sizing: border-box;text-align: center;}#sk-container-id-1 label.sk-toggleable__label-arrow:before {content: \"▸\";float: left;margin-right: 0.25em;color: #696969;}#sk-container-id-1 label.sk-toggleable__label-arrow:hover:before {color: black;}#sk-container-id-1 div.sk-estimator:hover label.sk-toggleable__label-arrow:before {color: black;}#sk-container-id-1 div.sk-toggleable__content {max-height: 0;max-width: 0;overflow: hidden;text-align: left;background-color: #f0f8ff;}#sk-container-id-1 div.sk-toggleable__content pre {margin: 0.2em;color: black;border-radius: 0.25em;background-color: #f0f8ff;}#sk-container-id-1 input.sk-toggleable__control:checked~div.sk-toggleable__content {max-height: 200px;max-width: 100%;overflow: auto;}#sk-container-id-1 input.sk-toggleable__control:checked~label.sk-toggleable__label-arrow:before {content: \"▾\";}#sk-container-id-1 div.sk-estimator input.sk-toggleable__control:checked~label.sk-toggleable__label {background-color: #d4ebff;}#sk-container-id-1 div.sk-label input.sk-toggleable__control:checked~label.sk-toggleable__label {background-color: #d4ebff;}#sk-container-id-1 input.sk-hidden--visually {border: 0;clip: rect(1px 1px 1px 1px);clip: rect(1px, 1px, 1px, 1px);height: 1px;margin: -1px;overflow: hidden;padding: 0;position: absolute;width: 1px;}#sk-container-id-1 div.sk-estimator {font-family: monospace;background-color: #f0f8ff;border: 1px dotted black;border-radius: 0.25em;box-sizing: border-box;margin-bottom: 0.5em;}#sk-container-id-1 div.sk-estimator:hover {background-color: #d4ebff;}#sk-container-id-1 div.sk-parallel-item::after {content: \"\";width: 100%;border-bottom: 1px solid gray;flex-grow: 1;}#sk-container-id-1 div.sk-label:hover label.sk-toggleable__label {background-color: #d4ebff;}#sk-container-id-1 div.sk-serial::before {content: \"\";position: absolute;border-left: 1px solid gray;box-sizing: border-box;top: 0;bottom: 0;left: 50%;z-index: 0;}#sk-container-id-1 div.sk-serial {display: flex;flex-direction: column;align-items: center;background-color: white;padding-right: 0.2em;padding-left: 0.2em;position: relative;}#sk-container-id-1 div.sk-item {position: relative;z-index: 1;}#sk-container-id-1 div.sk-parallel {display: flex;align-items: stretch;justify-content: center;background-color: white;position: relative;}#sk-container-id-1 div.sk-item::before, #sk-container-id-1 div.sk-parallel-item::before {content: \"\";position: absolute;border-left: 1px solid gray;box-sizing: border-box;top: 0;bottom: 0;left: 50%;z-index: -1;}#sk-container-id-1 div.sk-parallel-item {display: flex;flex-direction: column;z-index: 1;position: relative;background-color: white;}#sk-container-id-1 div.sk-parallel-item:first-child::after {align-self: flex-end;width: 50%;}#sk-container-id-1 div.sk-parallel-item:last-child::after {align-self: flex-start;width: 50%;}#sk-container-id-1 div.sk-parallel-item:only-child::after {width: 0;}#sk-container-id-1 div.sk-dashed-wrapped {border: 1px dashed gray;margin: 0 0.4em 0.5em 0.4em;box-sizing: border-box;padding-bottom: 0.4em;background-color: white;}#sk-container-id-1 div.sk-label label {font-family: monospace;font-weight: bold;display: inline-block;line-height: 1.2em;}#sk-container-id-1 div.sk-label-container {text-align: center;}#sk-container-id-1 div.sk-container {/* jupyter's `normalize.less` sets `[hidden] { display: none; }` but bootstrap.min.css set `[hidden] { display: none !important; }` so we also need the `!important` here to be able to override the default hidden behavior on the sphinx rendered scikit-learn.org. See: https://github.com/scikit-learn/scikit-learn/issues/21755 */display: inline-block !important;position: relative;}#sk-container-id-1 div.sk-text-repr-fallback {display: none;}</style><div id=\"sk-container-id-1\" class=\"sk-top-container\"><div class=\"sk-text-repr-fallback\"><pre>NearestNeighbors(algorithm=&#x27;brute&#x27;, metric=&#x27;cosine&#x27;, n_jobs=-1, n_neighbors=20)</pre><b>In a Jupyter environment, please rerun this cell to show the HTML representation or trust the notebook. <br />On GitHub, the HTML representation is unable to render, please try loading this page with nbviewer.org.</b></div><div class=\"sk-container\" hidden><div class=\"sk-item\"><div class=\"sk-estimator sk-toggleable\"><input class=\"sk-toggleable__control sk-hidden--visually\" id=\"sk-estimator-id-1\" type=\"checkbox\" checked><label for=\"sk-estimator-id-1\" class=\"sk-toggleable__label sk-toggleable__label-arrow\">NearestNeighbors</label><div class=\"sk-toggleable__content\"><pre>NearestNeighbors(algorithm=&#x27;brute&#x27;, metric=&#x27;cosine&#x27;, n_jobs=-1, n_neighbors=20)</pre></div></div></div></div></div>"
      ],
      "text/plain": [
       "NearestNeighbors(algorithm='brute', metric='cosine', n_jobs=-1, n_neighbors=20)"
      ]
     },
     "execution_count": 8,
     "metadata": {},
     "output_type": "execute_result"
    }
   ],
   "source": [
    "model_knn = NearestNeighbors(\n",
    "    metric='cosine', algorithm='brute', n_neighbors=20, n_jobs=-1)\n",
    "\n",
    "# Entrenar el modelo\n",
    "model_knn.fit(matrix_utility_sparse)"
   ]
  },
  {
   "cell_type": "code",
   "execution_count": 11,
   "metadata": {},
   "outputs": [],
   "source": [
    "pickle.dump(model_knn, open(\"../data/model_knn.pkl\", \"wb\"))"
   ]
  },
  {
   "cell_type": "code",
   "execution_count": 10,
   "metadata": {},
   "outputs": [
    {
     "data": {
      "text/plain": [
       "[{'id': '30', 'nombre': 'Day Of Defeat'},\n",
       " {'id': '276770', 'nombre': 'Nombre de juego no encontrado'},\n",
       " {'id': '266150', 'nombre': 'Lost Saga Na'},\n",
       " {'id': '294810', 'nombre': 'Blazblue Continuum Shift Extend'},\n",
       " {'id': '1200', 'nombre': 'Red Orchestra Ostfront 4145'}]"
      ]
     },
     "execution_count": 10,
     "metadata": {},
     "output_type": "execute_result"
    }
   ],
   "source": [
    "def recomendacion_juego(item_id, steam_games_df, matrix_utility, model_knn, k=5):\n",
    "    item_id_str = str(item_id)\n",
    "\n",
    "    if item_id_str not in steam_games_df['id'].astype(str).values:\n",
    "        return f\"El juego con ID {item_id} no fue encontrado.\"\n",
    "\n",
    "    try:\n",
    "        item_idx = matrix_utility.index.get_loc(item_id_str)\n",
    "        distances, indices = model_knn.kneighbors(\n",
    "            matrix_utility.iloc[item_idx, :].to_numpy().reshape(1, -1), n_neighbors=k+1)\n",
    "\n",
    "        recommended_ids = [matrix_utility.index[i]\n",
    "                           for i in indices.flatten()[1:]]\n",
    "        recomendaciones = []\n",
    "\n",
    "        for rec_id in recommended_ids:\n",
    "            if rec_id in steam_games_df['id'].astype(str).values:\n",
    "                nombre_juego = steam_games_df[steam_games_df['id'].astype(\n",
    "                    str) == rec_id]['app_name'].iloc[0]\n",
    "                recomendaciones.append({'id': rec_id, 'nombre': nombre_juego})\n",
    "            else:\n",
    "                recomendaciones.append(\n",
    "                    {'id': rec_id, 'nombre': 'Nombre de juego no encontrado'})\n",
    "\n",
    "        return recomendaciones\n",
    "    except Exception as e:\n",
    "        return str(e)  # Devolver el mensaje de error\n",
    "\n",
    "\n",
    "recomendacion_juego(\"300\", steam_games, matrix_utility, model_knn, k=5)"
   ]
  }
 ],
 "metadata": {
  "kernelspec": {
   "display_name": "base",
   "language": "python",
   "name": "python3"
  },
  "language_info": {
   "codemirror_mode": {
    "name": "ipython",
    "version": 3
   },
   "file_extension": ".py",
   "mimetype": "text/x-python",
   "name": "python",
   "nbconvert_exporter": "python",
   "pygments_lexer": "ipython3",
   "version": "0.0.0"
  }
 },
 "nbformat": 4,
 "nbformat_minor": 2
}
